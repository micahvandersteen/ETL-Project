{
 "cells": [
  {
   "cell_type": "code",
   "execution_count": null,
   "metadata": {},
   "outputs": [],
   "source": [
    "# Importing Dependencies\n",
    "import pandas as pd\n",
    "import pymongo\n",
    "import numpy as np\n",
    "from config import api_key\n",
    "from pprint import pprint\n",
    "import requests\n",
    "import json"
   ]
  },
  {
   "cell_type": "code",
   "execution_count": null,
   "metadata": {},
   "outputs": [],
   "source": [
    "###################################\n",
    "### PREPARING MONGODB FRAMEWORK ###\n",
    "###################################\n",
    "\n",
    "### SETTING UP CONNECTION TO MONGO ###\n",
    "conn = 'mongodb://localhost:27017'\n",
    "client = pymongo.MongoClient(conn)\n",
    "\n",
    "### CREATING MOVIES DATABASE called 'award_movies_db' ###\n",
    "db = client.award_movies_db\n",
    "\n",
    "db.oscars_coll.drop()\n",
    "db.omdb_coll.drop()\n",
    "db.golden_globe_coll.drop()\n",
    "\n",
    "### CREATING COLLECTIONS ###\n",
    "oscars_coll = db[\"oscars_coll\"]\n",
    "omdb_coll = db[\"omdb_coll\"]\n",
    "golden_globe_coll = db[\"golden_globe_coll\"]"
   ]
  },
  {
   "cell_type": "code",
   "execution_count": null,
   "metadata": {},
   "outputs": [],
   "source": [
    "### BRINGING IN OSCAR FILE USING PANDAS, INITIALIZING DATAFRAME ###\n",
    "oscars_file = \"resources/the_oscar_award.csv\"\n",
    "oscars_df = pd.read_csv(oscars_file)\n",
    "\n",
    "### dropping null values ###\n",
    "oscars_df = oscars_df.dropna()\n",
    "\n",
    "### locating only director nominations ###\n",
    "oscars_df = oscars_df.loc[oscars_df['category'].str.startswith('DIRECTING'), :]\n",
    "\n",
    "### renaming columns to correspond with the golden globes df ###\n",
    "oscars_df = oscars_df.rename(columns = {\"year_film\" : \"year\",\n",
    "                                        \"year_ceremony\" : \"oscar_year\",\n",
    "                                        \"name\" : \"nominee\"\n",
    "                                        })\n",
    "\n",
    "### dropping unwanted columns ###\n",
    "oscars_df = oscars_df.drop(columns = ['ceremony'])\n",
    "\n",
    "### inserting many documents into database from the dataframe ###\n",
    "oscars_coll.insert_many(oscars_df.to_dict('records'))"
   ]
  },
  {
   "cell_type": "code",
   "execution_count": null,
   "metadata": {},
   "outputs": [],
   "source": [
    "### BRINGING IN GOLDEN GLOBE FILE USING PANDAS, INITIALIZING DATAFRAME ###\n",
    "gg_file = \"resources/golden_globe_awards.csv\"\n",
    "golden_df = pd.read_csv(gg_file)\n",
    "\n",
    "### dropping null values ###\n",
    "golden_globe = golden_df.dropna()\n",
    "\n",
    "### locating only best director nominations ###\n",
    "golden_globe = golden_globe.loc[golden_globe[\"category\"]==\"Best Director - Motion Picture\", :]\n",
    "\n",
    "### dropping unwanted columns ###\n",
    "golden_globe = golden_globe.drop(columns = ['ceremony'])\n",
    "\n",
    "### renaming columns to correspond with the oscars df ###\n",
    "golden_globe = golden_globe.rename(columns={\"year_film\": \"year\",\n",
    "                            \"year_award\": \"golden_globe_year\"})\n",
    "\n",
    "### inserting many documents into database from the dataframe ###\n",
    "golden_globe_coll.insert_many(golden_globe.to_dict('records'))"
   ]
  },
  {
   "cell_type": "code",
   "execution_count": null,
   "metadata": {},
   "outputs": [],
   "source": [
    "### CREATING LIST OF FILMS FOR API CALL ###\n",
    "\n",
    "### creating a list of film titles from golde globe df ###\n",
    "titles = list(golden_globe['film'].unique())\n",
    "\n",
    "# FINDING ALL UNIQUE FILM TITLES AND PLACING IN LIST CALLED 'titles'\n",
    "oscars_titles = list(oscars_df['film'].unique())\n",
    "\n",
    "# getting unique list of film titles between both award cermenoy dataframes\n",
    "for title in oscars_titles:\n",
    "    if title not in titles:\n",
    "        titles.append(title)"
   ]
  },
  {
   "cell_type": "code",
   "execution_count": null,
   "metadata": {},
   "outputs": [],
   "source": [
    "### SETTING UP BASE URL TO API ###\n",
    "base_url = f\"http://www.omdbapi.com/?apikey={api_key}&\"\n",
    "\n",
    "### initializing documents list for db ###\n",
    "documents = []\n",
    "\n",
    "### FOR LOOP TO FIND MOVIE STATS FROM TITLES IN 'oscars_df' ###\n",
    "for title in titles:\n",
    "    \n",
    "    ### DEFINING QUERY URL AND API RESPONSE ###\n",
    "    query_url = base_url + f\"t={title}\"\n",
    "    response = requests.get(query_url).json()\n",
    "    \n",
    "    # getting desired variables from api response\n",
    "    try: \n",
    "        \n",
    "        doc = { 'title' : response['Title'],\n",
    "                'year' : response['Year'],\n",
    "                'rating' : response['Rated'],\n",
    "                'box_office' : response['BoxOffice'],\n",
    "                'production_company' : response['Production'],\n",
    "                'director' : response['Director']\n",
    "               }\n",
    "        \n",
    "        documents.append(doc)\n",
    "\n",
    "    except:\n",
    "        KeyError: \"value does not exist\""
   ]
  },
  {
   "cell_type": "code",
   "execution_count": null,
   "metadata": {},
   "outputs": [],
   "source": [
    "### loading movie documents from api into mongodb collection###\n",
    "omdb_coll.insert_many(documents)"
   ]
  }
 ],
 "metadata": {
  "kernelspec": {
   "display_name": "Python 3",
   "language": "python",
   "name": "python3"
  },
  "language_info": {
   "codemirror_mode": {
    "name": "ipython",
    "version": 3
   },
   "file_extension": ".py",
   "mimetype": "text/x-python",
   "name": "python",
   "nbconvert_exporter": "python",
   "pygments_lexer": "ipython3",
   "version": "3.6.9"
  }
 },
 "nbformat": 4,
 "nbformat_minor": 4
}
