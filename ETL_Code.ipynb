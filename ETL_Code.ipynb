{
 "cells": [
  {
   "cell_type": "code",
   "execution_count": null,
   "metadata": {},
   "outputs": [],
   "source": [
    "# Importing Dependencies\n",
    "import pandas as pd\n",
    "import pymongo\n",
    "import numpy as np\n",
    "from config import api_key\n",
    "from pprint import pprint\n",
    "import requests\n",
    "import json"
   ]
  },
  {
   "cell_type": "markdown",
   "metadata": {},
   "source": [
    "## Micah's section begins"
   ]
  },
  {
   "cell_type": "code",
   "execution_count": null,
   "metadata": {},
   "outputs": [],
   "source": [
    "###################################\n",
    "### PREPARING MONGODB FRAMEWORK ###\n",
    "###################################\n",
    "\n",
    "### SETTING UP CONNECTION TO MONGO ###\n",
    "conn = 'mongodb://localhost:27017'\n",
    "client = pymongo.MongoClient(conn)\n",
    "\n",
    "### CREATING MOVIES DATABASE called 'award_movies_db' ###\n",
    "db = client.award_movies_db\n",
    "\n",
    "### CREATING OSCARS COLLECTION, AND OMDB COLLECTION ###\n",
    "oscars_coll = db[\"oscars_coll\"]\n",
    "omdb_coll = db[\"omdb_coll\"]"
   ]
  },
  {
   "cell_type": "code",
   "execution_count": null,
   "metadata": {},
   "outputs": [],
   "source": [
    "### BRINGING IN FILE USING PANDAS, INITIALIZING DATAFRAME ###\n",
    "oscars_file = \"resources/the_oscar_award.csv\"\n",
    "oscars_df = pd.read_csv(oscars_file)\n",
    "oscars_df.dropna()\n",
    "oscars_df.head()\n",
    "\n",
    "# FINDING ALL UNIQUE FILM TITLES AND PLACING IN LIST CALLED 'titles'\n",
    "titles = list(oscars_df['film'].unique())\n",
    "titles = titles[:10] # just for test\n",
    "titles # just for test"
   ]
  },
  {
   "cell_type": "code",
   "execution_count": null,
   "metadata": {},
   "outputs": [],
   "source": [
    "### SETTING UP BASE URL TO API ###\n",
    "base_url = f\"http://www.omdbapi.com/?apikey={api_key}&\"\n",
    "\n",
    "### initializing documents list for db ###\n",
    "documents = []\n",
    "\n",
    "### FOR LOOP TO FIND MOVIE STATS FROM TITLES IN 'oscars_df' ###\n",
    "for title in titles:\n",
    "    \n",
    "    ### DEFINING QUERY URL AND API RESPONSE ###\n",
    "    query_url = base_url + f\"t={title}\"\n",
    "    response = requests.get(query_url).json()\n",
    "    \n",
    "    # getting desired variables from api response\n",
    "    try: \n",
    "        doc = { 'title' : response['Title'],\n",
    "                'year' : response['Year'],\n",
    "                'rating' : response['Rated'],\n",
    "                'box_office' : response['BoxOffice'],\n",
    "                'production_company' : response['Production'],\n",
    "                'director' : response['Director']\n",
    "               }\n",
    "\n",
    "    except:\n",
    "        KeyError: \"value does not exist\"\n",
    "            \n",
    "    documents.append(doc)"
   ]
  },
  {
   "cell_type": "code",
   "execution_count": null,
   "metadata": {},
   "outputs": [],
   "source": [
    "documents\n",
    "### loading movie documents from api into mongodb collection###\n",
    "omdb_coll.insert_many(documents)\n",
    "\n",
    "# everything runs smoothly until here. I figured it was a good place to stop until class.\n",
    "# I get a BulkWriteError that I think has something to do with duplicate IDs.\n",
    "# for some reason, mongo assigned the same _id to a couple movies in my sample DB."
   ]
  },
  {
   "cell_type": "markdown",
   "metadata": {},
   "source": [
    "## Micah's section ends"
   ]
  },
  {
   "cell_type": "markdown",
   "metadata": {},
   "source": [
    "## Jennifer's section begins"
   ]
  },
  {
   "cell_type": "code",
   "execution_count": null,
   "metadata": {},
   "outputs": [],
   "source": []
  },
  {
   "cell_type": "markdown",
   "metadata": {},
   "source": [
    "## Jennifer's section ends"
   ]
  }
 ],
 "metadata": {
  "kernelspec": {
   "display_name": "Python 3",
   "language": "python",
   "name": "python3"
  },
  "language_info": {
   "codemirror_mode": {
    "name": "ipython",
    "version": 3
   },
   "file_extension": ".py",
   "mimetype": "text/x-python",
   "name": "python",
   "nbconvert_exporter": "python",
   "pygments_lexer": "ipython3",
   "version": "3.6.9"
  }
 },
 "nbformat": 4,
 "nbformat_minor": 4
}
